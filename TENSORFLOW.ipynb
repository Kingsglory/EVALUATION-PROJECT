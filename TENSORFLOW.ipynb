{
 "cells": [
  {
   "cell_type": "code",
   "execution_count": 1,
   "id": "4fe93c59",
   "metadata": {},
   "outputs": [],
   "source": [
    "import tensorflow as tf"
   ]
  },
  {
   "cell_type": "code",
   "execution_count": 2,
   "id": "225166ec",
   "metadata": {},
   "outputs": [
    {
     "data": {
      "text/plain": [
       "<tf.Tensor: shape=(), dtype=string, numpy=b'Hello world!'>"
      ]
     },
     "execution_count": 2,
     "metadata": {},
     "output_type": "execute_result"
    }
   ],
   "source": [
    "hello_constant=tf.constant('Hello world!')\n",
    "\n",
    "hello_constant"
   ]
  },
  {
   "cell_type": "code",
   "execution_count": 3,
   "id": "41486a64",
   "metadata": {},
   "outputs": [
    {
     "name": "stdout",
     "output_type": "stream",
     "text": [
      "WARNING:tensorflow:From C:\\Users\\emeka\\AppData\\Local\\Temp\\ipykernel_8500\\1673733364.py:2: The name tf.Session is deprecated. Please use tf.compat.v1.Session instead.\n",
      "\n"
     ]
    }
   ],
   "source": [
    "import tensorflow.compat.v1 as tf\n",
    "sess = tf.Session()"
   ]
  },
  {
   "cell_type": "code",
   "execution_count": 4,
   "id": "e04fac62",
   "metadata": {},
   "outputs": [
    {
     "name": "stdout",
     "output_type": "stream",
     "text": [
      "-2\n"
     ]
    }
   ],
   "source": [
    "import tensorflow as tf\n",
    "\n",
    "tf.compat.v1.disable_eager_execution()\n",
    "\n",
    "a = tf.constant(5)\n",
    "b = tf.constant(6)\n",
    "c = tf.constant(7)\n",
    "d = tf.multiply(a,b)\n",
    "e = tf.add(c,d)\n",
    "f = tf.subtract(a,c)\n",
    "\n",
    "with tf.compat.v1.Session() as sess:\n",
    "  outs = sess.run(f)\n",
    "  print(outs)"
   ]
  },
  {
   "cell_type": "code",
   "execution_count": 5,
   "id": "d1267815",
   "metadata": {},
   "outputs": [
    {
     "name": "stdout",
     "output_type": "stream",
     "text": [
      "b'Hello world!'\n"
     ]
    }
   ],
   "source": [
    "import tensorflow as tf\n",
    "\n",
    "tf.compat.v1.disable_eager_execution()\n",
    "\n",
    "hello_constant=tf.constant('Hello world!')\n",
    "\n",
    "with tf.compat.v1.Session() as sess:\n",
    "    \n",
    "    output=sess.run(hello_constant)\n",
    "    print(output)"
   ]
  },
  {
   "cell_type": "code",
   "execution_count": 6,
   "id": "7471349e",
   "metadata": {},
   "outputs": [],
   "source": [
    "# A is a 0-dimension int32 tensor\n",
    "\n",
    "A=tf.constant(1234)\n",
    "\n",
    "#B is a 1-dimension int32 tensor\n",
    "\n",
    "B=tf.constant([123,456,789])\n",
    "\n",
    "\n",
    "#C is a 2-dimension int32 tensor\n",
    "\n",
    "C=tf.constant([[123,456,789], [222,333,444]])"
   ]
  },
  {
   "cell_type": "code",
   "execution_count": 7,
   "id": "50c62ed3",
   "metadata": {},
   "outputs": [
    {
     "name": "stdout",
     "output_type": "stream",
     "text": [
      "c:0\n",
      "c_1:0\n",
      "c_2:0\n"
     ]
    }
   ],
   "source": [
    "with tf.Graph().as_default():\n",
    "    c1=tf.constant(4,dtype=tf.float64,name='c')\n",
    "    c2=tf.constant(4,dtype=tf.int32,name='c')\n",
    "    c3=tf.constant(4,dtype=tf.int32,name='c')\n",
    "print(c1.name)\n",
    "print(c2.name)\n",
    "print(c3.name)"
   ]
  },
  {
   "cell_type": "code",
   "execution_count": 8,
   "id": "d4e9e347",
   "metadata": {},
   "outputs": [
    {
     "name": "stdout",
     "output_type": "stream",
     "text": [
      "c:0\n",
      "prefix_name/c:0\n",
      "prefix_name/c_1:0\n",
      "Tensor(\"c:0\", shape=(), dtype=float64)\n"
     ]
    }
   ],
   "source": [
    "with tf.Graph().as_default():\n",
    "    c1 = tf.constant(4,dtype=tf.float64,name='c')\n",
    "with tf.name_scope('prefix_name'):\n",
    "    c2=tf.constant(4,dtype=tf.int32,name='c')\n",
    "    c3=tf.constant(4,dtype=tf.float64,name='c')\n",
    "print(c1.name)\n",
    "print(c2.name)\n",
    "print(c3.name)\n",
    "print(c1)"
   ]
  },
  {
   "cell_type": "code",
   "execution_count": 9,
   "id": "1f9f2172",
   "metadata": {},
   "outputs": [
    {
     "name": "stdout",
     "output_type": "stream",
     "text": [
      "Requirement already satisfied: pip in c:\\users\\emeka\\anaconda3\\lib\\site-packages (24.1.2)\n",
      "Note: you may need to restart the kernel to use updated packages.\n"
     ]
    }
   ],
   "source": [
    "pip install --upgrade pip"
   ]
  },
  {
   "cell_type": "code",
   "execution_count": 10,
   "id": "cf8b6078",
   "metadata": {},
   "outputs": [],
   "source": [
    "import tensorflow as tf\n",
    "\n",
    "#create TensorFlow object called tensor\n",
    "\n",
    "hello_constant=tf.constant('Hello World!')"
   ]
  },
  {
   "cell_type": "code",
   "execution_count": 11,
   "id": "540716f7",
   "metadata": {},
   "outputs": [
    {
     "name": "stdout",
     "output_type": "stream",
     "text": [
      "b'Hello World!'\n"
     ]
    }
   ],
   "source": [
    "with tf.compat.v1.Session() as sess:\n",
    "    #Run the tf.constant operation in the session\n",
    "    output=sess.run(hello_constant)\n",
    "    print(output)"
   ]
  },
  {
   "cell_type": "code",
   "execution_count": 12,
   "id": "515d38f1",
   "metadata": {},
   "outputs": [
    {
     "data": {
      "text/plain": [
       "array([[123, 456, 789],\n",
       "       [222, 333, 444]])"
      ]
     },
     "execution_count": 12,
     "metadata": {},
     "output_type": "execute_result"
    }
   ],
   "source": [
    "C= tf.constant([ [123,456,789], [222,333,444] ])\n",
    "\n",
    "sess = tf.compat.v1.Session()\n",
    "\n",
    "sess.run(C)"
   ]
  },
  {
   "cell_type": "markdown",
   "id": "b0765fea",
   "metadata": {},
   "source": [
    "# NOTE ANY PLACE YOU SEE TF.SESSION USE TF.COMPAT.V1.SESSION "
   ]
  },
  {
   "cell_type": "code",
   "execution_count": 13,
   "id": "cbf4744c",
   "metadata": {},
   "outputs": [
    {
     "name": "stdout",
     "output_type": "stream",
     "text": [
      "pre run:\n",
      "<tf.Variable 'var:0' shape=(1, 5) dtype=float32>\n"
     ]
    }
   ],
   "source": [
    "init_val = tf.random.normal((1,5),0,1)\n",
    "\n",
    "var=tf.Variable(init_val, name='var')\n",
    "\n",
    "print(\"pre run:\\n{}\".format(var))\n",
    "init=tf.compat.v1.global_variables_initializer()\n",
    "\n"
   ]
  },
  {
   "cell_type": "code",
   "execution_count": 14,
   "id": "4e28149a",
   "metadata": {},
   "outputs": [
    {
     "name": "stdout",
     "output_type": "stream",
     "text": [
      "\n",
      " post run:\n",
      "[[-1.0369499  -0.48692787 -0.7686685  -1.7755388  -1.2844329 ]]\n"
     ]
    }
   ],
   "source": [
    "with tf.compat.v1.Session() as sess:\n",
    "    sess.run(init)\n",
    "    post_var=sess.run(var)\n",
    "print(\"\\n post run:\\n{}\".format(post_var))\n",
    "    "
   ]
  },
  {
   "cell_type": "markdown",
   "id": "ccd683e3",
   "metadata": {},
   "source": [
    "# OR"
   ]
  },
  {
   "cell_type": "code",
   "execution_count": 15,
   "id": "87770220",
   "metadata": {},
   "outputs": [
    {
     "name": "stdout",
     "output_type": "stream",
     "text": [
      "pre run:\n",
      "<tf.Variable 'var_1:0' shape=(1, 5) dtype=float32>\n",
      "\n",
      " post run:\n",
      "[[ 0.1963252  -0.7479768   0.6067028   0.5022942  -0.06952149]]\n"
     ]
    }
   ],
   "source": [
    "init_val = tf.random.normal((1,5),0,1)\n",
    "\n",
    "var=tf.Variable(init_val, name='var')\n",
    "\n",
    "print(\"pre run:\\n{}\".format(var))\n",
    "init=tf.compat.v1.global_variables_initializer()\n",
    "\n",
    "\n",
    "with tf.compat.v1.Session() as sess:\n",
    "    sess.run(init)\n",
    "    post_var=sess.run(var)\n",
    "print(\"\\n post run:\\n{}\".format(post_var))\n",
    "    \n"
   ]
  },
  {
   "cell_type": "code",
   "execution_count": 16,
   "id": "ce87e834",
   "metadata": {},
   "outputs": [
    {
     "name": "stdout",
     "output_type": "stream",
     "text": [
      "test\n"
     ]
    }
   ],
   "source": [
    "X= tf.compat.v1.placeholder(tf.string)\n",
    "\n",
    "with tf.compat.v1.Session() as sess:\n",
    "    output=sess.run(X, feed_dict={X: 'test'})\n",
    "    print(output)"
   ]
  },
  {
   "cell_type": "code",
   "execution_count": 17,
   "id": "313a4cd8",
   "metadata": {},
   "outputs": [
    {
     "name": "stdout",
     "output_type": "stream",
     "text": [
      "[1. 4. 9.]\n"
     ]
    }
   ],
   "source": [
    "x= tf.compat.v1.placeholder('float',None)\n",
    "y=x**2\n",
    "\n",
    "with tf.compat.v1.Session() as session:\n",
    "    result=session.run(y, feed_dict={x: [1,2,3]})\n",
    "    print(result)"
   ]
  },
  {
   "cell_type": "code",
   "execution_count": 18,
   "id": "3301504f",
   "metadata": {},
   "outputs": [
    {
     "name": "stdout",
     "output_type": "stream",
     "text": [
      "7\n"
     ]
    }
   ],
   "source": [
    "#Check for Data Types\n",
    "\n",
    "\n",
    "x=tf.add(5,2) #7\n",
    "with tf.compat.v1.Session() as sess:\n",
    "    output = sess.run(x)\n",
    "    print(output)"
   ]
  },
  {
   "cell_type": "code",
   "execution_count": 19,
   "id": "898f36b1",
   "metadata": {},
   "outputs": [],
   "source": [
    "x=tf.subtract(10,4) #6\n",
    "\n",
    "y=tf.multiply(2,5) #10\n",
    "\n",
    "\n",
    "#CHECK THE NOTE"
   ]
  },
  {
   "cell_type": "code",
   "execution_count": 20,
   "id": "5c899e3c",
   "metadata": {},
   "outputs": [
    {
     "data": {
      "text/plain": [
       "<tf.Tensor 'Sub_1:0' shape=() dtype=int32>"
      ]
     },
     "execution_count": 20,
     "metadata": {},
     "output_type": "execute_result"
    }
   ],
   "source": [
    "x"
   ]
  },
  {
   "cell_type": "code",
   "execution_count": 21,
   "id": "1d7c4f4f",
   "metadata": {},
   "outputs": [
    {
     "name": "stdout",
     "output_type": "stream",
     "text": [
      "1\n"
     ]
    }
   ],
   "source": [
    "c=tf.subtract(tf.cast(tf.constant(2.0), tf.int32), tf.constant(1))\n",
    "\n",
    "with tf.compat.v1.Session() as sess:\n",
    "    output=sess.run(c)\n",
    "    print(output)\n",
    "    \n",
    "#Note in place of the subtract you can you multiply and others to execute your functions"
   ]
  },
  {
   "cell_type": "code",
   "execution_count": 22,
   "id": "e4b112a4",
   "metadata": {},
   "outputs": [
    {
     "name": "stdout",
     "output_type": "stream",
     "text": [
      "4.0\n"
     ]
    }
   ],
   "source": [
    "x=tf.constant(10)\n",
    "y=tf.constant(2)\n",
    "z=tf.subtract(tf.divide(x, y),1)\n",
    "\n",
    "with tf.compat.v1.Session() as sess:\n",
    "    output=sess.run(z)\n",
    "    print(output)"
   ]
  },
  {
   "cell_type": "markdown",
   "id": "69e2fd39",
   "metadata": {},
   "source": [
    "Tensorflow Linear function"
   ]
  },
  {
   "cell_type": "markdown",
   "id": "637a6653",
   "metadata": {},
   "source": [
    "tf.truncated_normal()"
   ]
  },
  {
   "cell_type": "markdown",
   "id": "131d7ec1",
   "metadata": {},
   "source": []
  },
  {
   "cell_type": "code",
   "execution_count": 23,
   "id": "06cec3e8",
   "metadata": {},
   "outputs": [
    {
     "data": {
      "text/plain": [
       "<tf.Variable 'Variable:0' shape=(120, 5) dtype=float32>"
      ]
     },
     "execution_count": 23,
     "metadata": {},
     "output_type": "execute_result"
    }
   ],
   "source": [
    "n_features =120\n",
    "n_labels = 5\n",
    "weights = tf.Variable(tf.compat.v1.random.truncated_normal((n_features, n_labels)))\n",
    "\n",
    "weights"
   ]
  },
  {
   "cell_type": "markdown",
   "id": "494677f2",
   "metadata": {},
   "source": [
    "tf.Zeros()"
   ]
  },
  {
   "cell_type": "code",
   "execution_count": 25,
   "id": "a4e50d72",
   "metadata": {},
   "outputs": [],
   "source": [
    "#Initialising this as normal zero\n",
    "\n",
    "n_labels\n",
    "\n",
    "bias=tf.Variable(tf.zeros(n_labels))"
   ]
  },
  {
   "cell_type": "code",
   "execution_count": 30,
   "id": "46561cf9",
   "metadata": {},
   "outputs": [
    {
     "name": "stdout",
     "output_type": "stream",
     "text": [
      "45\n"
     ]
    }
   ],
   "source": [
    "import tensorflow as tf\n",
    "\n",
    "#Create operations, Tensors, etc (using the default graph)\n",
    "\n",
    "a = tf.add(2, 5)\n",
    "b = tf.multiply(a, 3)\n",
    "\n",
    "# Start up a Session using the default graph\n",
    "\n",
    "sess = tf.compat.v1.Session()\n",
    "\n",
    "# Define a dictionary that says to replace the value of a with 15\n",
    "\n",
    "replace_dict = {a: 15}\n",
    "\n",
    "#Run the Session, passing in replace_dict as the value to feed_dict\n",
    "\n",
    "output = sess.run(b, feed_dict=replace_dict)\n",
    "\n",
    "print(output)"
   ]
  },
  {
   "cell_type": "markdown",
   "id": "b332f653",
   "metadata": {},
   "source": [
    "# BUILDING OF SOFTMAX"
   ]
  },
  {
   "cell_type": "code",
   "execution_count": 32,
   "id": "631a4ca3",
   "metadata": {},
   "outputs": [
    {
     "data": {
      "text/plain": [
       "<tf.Tensor 'Softmax_1:0' shape=(3,) dtype=float32>"
      ]
     },
     "execution_count": 32,
     "metadata": {},
     "output_type": "execute_result"
    }
   ],
   "source": [
    "x = tf.nn.softmax([2.0, 1.0, 0.2])\n",
    "\n",
    "x"
   ]
  },
  {
   "cell_type": "code",
   "execution_count": 33,
   "id": "3324eda4",
   "metadata": {},
   "outputs": [
    {
     "name": "stdout",
     "output_type": "stream",
     "text": [
      "[0.         0.33333334 0.33333334 0.         0.33333334 0.        ]\n"
     ]
    }
   ],
   "source": [
    "import tensorflow as tf\n",
    "\n",
    "def run_2():\n",
    "    output = None \n",
    "    logit_data = [19,354,354,45,354,54]\n",
    "    logits = tf.compat.v1.placeholder(tf.float32)\n",
    "    \n",
    "    #Calculate the softmax of the logit\n",
    "    softmax = tf.nn.softmax(logits)\n",
    "    \n",
    "    \n",
    "    with tf.compat.v1.Session() as sess:\n",
    "        #Feed inthe logit data\n",
    "        output = sess.run(softmax, feed_dict={logits: logit_data})\n",
    "    return output\n",
    "print(run_2())"
   ]
  },
  {
   "cell_type": "markdown",
   "id": "cd1515bc",
   "metadata": {},
   "source": [
    "# TO CREATE CROSS ENTROPY"
   ]
  },
  {
   "cell_type": "markdown",
   "id": "66d5f27f",
   "metadata": {},
   "source": [
    "THIS CAN BE DONE USING \n",
    "\n",
    "tf.reduce_sum()\n",
    "\n",
    "tf.log()"
   ]
  },
  {
   "cell_type": "code",
   "execution_count": 42,
   "id": "4283e707",
   "metadata": {},
   "outputs": [],
   "source": [
    "x = tf.reduce_sum([1,2,3,4,5])  #15\n",
    "\n"
   ]
  },
  {
   "cell_type": "code",
   "execution_count": 43,
   "id": "21bd14c0",
   "metadata": {},
   "outputs": [
    {
     "data": {
      "text/plain": [
       "<tf.Tensor 'Log_4:0' shape=() dtype=float32>"
      ]
     },
     "execution_count": 43,
     "metadata": {},
     "output_type": "execute_result"
    }
   ],
   "source": [
    "# FOR NATURAL LOG\n",
    "\n",
    "l = tf.compat.v1.log(100.0)  #4.60517\n",
    "\n",
    "l"
   ]
  },
  {
   "cell_type": "code",
   "execution_count": 44,
   "id": "fe1b96bd",
   "metadata": {},
   "outputs": [
    {
     "data": {
      "text/plain": [
       "<tf.Tensor 'Log_5:0' shape=() dtype=float32>"
      ]
     },
     "execution_count": 44,
     "metadata": {},
     "output_type": "execute_result"
    }
   ],
   "source": [
    "#YOU CAN TRY THIS PATTERN AS WELL, IT WILL WORK\n",
    "\n",
    "l = tf.math.log(100.0)  #4.60517\n",
    "\n",
    "l"
   ]
  },
  {
   "cell_type": "code",
   "execution_count": 47,
   "id": "2513331e",
   "metadata": {},
   "outputs": [
    {
     "name": "stdout",
     "output_type": "stream",
     "text": [
      "0.35667497\n"
     ]
    }
   ],
   "source": [
    "import tensorflow as tf\n",
    "\n",
    "softmax_data = [0.7, 0.2, 0.1]\n",
    "one_hot_data = [1.0, 0.0, 0.0]\n",
    "\n",
    "\n",
    "softmax = tf.compat.v1.placeholder(tf.float32)\n",
    "one_hot = tf.compat.v1.placeholder(tf.float32)\n",
    "#print cross entropy from Session\n",
    "\n",
    "cross_entropy = -tf.reduce_sum(tf.multiply(one_hot, tf.math.log(softmax)))\n",
    "\n",
    "with tf.compat.v1.Session() as session:\n",
    "    output=session.run(cross_entropy, feed_dict={one_hot:one_hot_data, softmax: softmax_data})\n",
    "    print(output)"
   ]
  },
  {
   "cell_type": "code",
   "execution_count": null,
   "id": "9e0f248f",
   "metadata": {},
   "outputs": [],
   "source": []
  }
 ],
 "metadata": {
  "kernelspec": {
   "display_name": "Python 3 (ipykernel)",
   "language": "python",
   "name": "python3"
  },
  "language_info": {
   "codemirror_mode": {
    "name": "ipython",
    "version": 3
   },
   "file_extension": ".py",
   "mimetype": "text/x-python",
   "name": "python",
   "nbconvert_exporter": "python",
   "pygments_lexer": "ipython3",
   "version": "3.11.5"
  }
 },
 "nbformat": 4,
 "nbformat_minor": 5
}
